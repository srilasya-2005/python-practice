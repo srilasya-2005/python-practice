{
  "nbformat": 4,
  "nbformat_minor": 0,
  "metadata": {
    "colab": {
      "provenance": []
    },
    "kernelspec": {
      "name": "python3",
      "display_name": "Python 3"
    },
    "language_info": {
      "name": "python"
    }
  },
  "cells": [
    {
      "cell_type": "code",
      "execution_count": null,
      "metadata": {
        "id": "XTFnakqAQ61Q",
        "colab": {
          "base_uri": "https://localhost:8080/"
        },
        "outputId": "7dcf83e6-da16-48b4-940b-6290673e2dd8"
      },
      "outputs": [
        {
          "output_type": "stream",
          "name": "stdout",
          "text": [
            "[10, 20, 25, 30, 40, 50]\n",
            "[10, 20, 25, 40, 50]\n",
            "10 20 25 40 50 \n",
            " 25 in array? True\n"
          ]
        }
      ],
      "source": [
        "#Array Operations\n",
        "#Program :To consider a list arr=[10,20,30,40] and perform insert operation and deletion operation with 50,25 at position 2 respectively and traverse the array to fetch a number 25 is present or not\n",
        "\n",
        "arr=[10,20,30,40]\n",
        "#insertion\n",
        "arr.insert(4,50)\n",
        "arr.insert(2,25)\n",
        "print(arr)\n",
        "# Deletion\n",
        "arr.pop(3)\n",
        "print(arr)\n",
        "#traversal\n",
        "for i in arr:\n",
        "    print(i,end=' ')\n",
        "#searching\n",
        "print('\\n 25 in array?',25 in arr)"
      ]
    },
    {
      "cell_type": "code",
      "source": [],
      "metadata": {
        "id": "kgBbEaoTVpPc"
      },
      "execution_count": null,
      "outputs": []
    },
    {
      "cell_type": "markdown",
      "metadata": {
        "id": "0e89a5ca"
      },
      "source": [
        "Here's an example demonstrating how to extend a list with another list, reverse a list, and sort a list."
      ]
    },
    {
      "cell_type": "code",
      "metadata": {
        "colab": {
          "base_uri": "https://localhost:8080/"
        },
        "id": "37d1d456",
        "outputId": "bbd38f07-22e3-4f99-c7e4-f298e22c7282"
      },
      "source": [
        "# Extending, Reversing, and Sorting Lists\n",
        "\n",
        "list1 = [1, 2, 3]\n",
        "list2 = [4, 5, 6]\n",
        "\n",
        "# Extend list1 with list2\n",
        "list1.extend(list2)\n",
        "print(\"Extended list:\", list1)\n",
        "\n",
        "# Reverse list1\n",
        "list1.reverse()\n",
        "print(\"Reversed list:\", list1)\n",
        "\n",
        "# Sort list1\n",
        "list1.sort()\n",
        "print(\"Sorted list:\", list1)"
      ],
      "execution_count": null,
      "outputs": [
        {
          "output_type": "stream",
          "name": "stdout",
          "text": [
            "Extended list: [1, 2, 3, 4, 5, 6]\n",
            "Reversed list: [6, 5, 4, 3, 2, 1]\n",
            "Sorted list: [1, 2, 3, 4, 5, 6]\n"
          ]
        }
      ]
    },
    {
      "cell_type": "markdown",
      "metadata": {
        "id": "e5f06afc"
      },
      "source": [
        "This example shows how to count the occurrences of an element in a list and remove the first occurrence of an element."
      ]
    },
    {
      "cell_type": "code",
      "metadata": {
        "colab": {
          "base_uri": "https://localhost:8080/"
        },
        "id": "a5c18a27",
        "outputId": "273f3767-4af4-4d6b-8792-7bcc59e05105"
      },
      "source": [
        "# Counting and Removing Elements\n",
        "\n",
        "numbers = [10, 20, 30, 20, 40, 20]\n",
        "\n",
        "# Count occurrences of 20\n",
        "count_of_20 = numbers.count(20)\n",
        "print(\"Count of 20:\", count_of_20)\n",
        "\n",
        "# Remove the first occurrence of 20\n",
        "numbers.remove(20)\n",
        "print(\"List after removing first 20:\", numbers)"
      ],
      "execution_count": null,
      "outputs": [
        {
          "output_type": "stream",
          "name": "stdout",
          "text": [
            "Count of 20: 3\n",
            "List after removing first 20: [10, 30, 20, 40, 20]\n"
          ]
        }
      ]
    },
    {
      "cell_type": "markdown",
      "metadata": {
        "id": "303c97b4"
      },
      "source": [
        "This example demonstrates using slicing to access a portion of a list."
      ]
    },
    {
      "cell_type": "code",
      "metadata": {
        "colab": {
          "base_uri": "https://localhost:8080/"
        },
        "id": "372bb1e5",
        "outputId": "2ca64bd4-71df-4290-b6e9-7b9566588f2e"
      },
      "source": [
        "# List Slicing\n",
        "\n",
        "my_list = [1, 2, 3, 4, 5, 6, 7, 8, 9, 10]\n",
        "\n",
        "# Get a slice from index 2 to 5 (exclusive)\n",
        "slice1 = my_list[2:5]\n",
        "print(\"Slice from index 2 to 5:\", slice1)\n",
        "\n",
        "# Get a slice from the beginning to index 7 (exclusive)\n",
        "slice2 = my_list[:7]\n",
        "print(\"Slice from beginning to index 7:\", slice2)\n",
        "\n",
        "# Get a slice from index 5 to the end\n",
        "slice3 = my_list[5:]\n",
        "print(\"Slice from index 5 to the end:\", slice3)\n",
        "\n",
        "# Get a slice with a step of 2\n",
        "slice4 = my_list[::2]\n",
        "print(\"Slice with step of 2:\", slice4)"
      ],
      "execution_count": null,
      "outputs": [
        {
          "output_type": "stream",
          "name": "stdout",
          "text": [
            "Slice from index 2 to 5: [3, 4, 5]\n",
            "Slice from beginning to index 7: [1, 2, 3, 4, 5, 6, 7]\n",
            "Slice from index 5 to the end: [6, 7, 8, 9, 10]\n",
            "Slice with step of 2: [1, 3, 5, 7, 9]\n"
          ]
        }
      ]
    },
    {
      "cell_type": "code",
      "source": [
        "#Program to check wheather the given string is palindrome  or not and count the palindromic charecters which are repeated\n",
        "#str=\"madam\"\n",
        "#output:{'m':2,'a':2,'d':1}\n",
        "#str=malayalam\n",
        "\n",
        "text=input(\"Enter a String:\")\n",
        "if text==text[::-1]:\n",
        "  print(\"Palindrome\")\n",
        "else:\n",
        "  print(\"Not a Palindrome\")\n",
        "freq={}\n",
        "for ch in text:\n",
        "  freq[ch]=freq.get(ch,0)+1\n",
        "  print(freq)"
      ],
      "metadata": {
        "id": "h4xZyT3faH2L",
        "colab": {
          "base_uri": "https://localhost:8080/"
        },
        "outputId": "122f3075-c597-48ee-ded7-63902b054ae5"
      },
      "execution_count": null,
      "outputs": [
        {
          "output_type": "stream",
          "name": "stdout",
          "text": [
            "Enter a String:malayalam\n",
            "Palindrome\n",
            "{'m': 1}\n",
            "{'m': 1, 'a': 1}\n",
            "{'m': 1, 'a': 1, 'l': 1}\n",
            "{'m': 1, 'a': 2, 'l': 1}\n",
            "{'m': 1, 'a': 2, 'l': 1, 'y': 1}\n",
            "{'m': 1, 'a': 3, 'l': 1, 'y': 1}\n",
            "{'m': 1, 'a': 3, 'l': 2, 'y': 1}\n",
            "{'m': 1, 'a': 4, 'l': 2, 'y': 1}\n",
            "{'m': 2, 'a': 4, 'l': 2, 'y': 1}\n"
          ]
        }
      ]
    },
    {
      "cell_type": "code",
      "source": [],
      "metadata": {
        "id": "26Tlime0c6b1"
      },
      "execution_count": null,
      "outputs": []
    },
    {
      "cell_type": "code",
      "metadata": {
        "colab": {
          "base_uri": "https://localhost:8080/"
        },
        "id": "17217e48",
        "outputId": "91b63a56-ddae-4820-b0f4-c49ae5ae2e89"
      },
      "source": [
        "# Program to count the number of vowels and consonants in a string\n",
        "\n",
        "input_string = input(\"Enter a string: \")\n",
        "input_string = input_string.lower()  # Convert to lowercase for easier checking\n",
        "\n",
        "vowels = \"aeiou\"\n",
        "vowel_count = 0\n",
        "consonant_count = 0\n",
        "\n",
        "for char in input_string:\n",
        "    if char.isalpha():  # Check if the character is an alphabet letter\n",
        "        if char in vowels:\n",
        "            vowel_count += 1\n",
        "        else:\n",
        "            consonant_count += 1\n",
        "\n",
        "print(\"Number of vowels:\", vowel_count)\n",
        "print(\"Number of consonants:\", consonant_count)"
      ],
      "execution_count": null,
      "outputs": [
        {
          "output_type": "stream",
          "name": "stdout",
          "text": [
            "Enter a string: madam\n",
            "Number of vowels: 2\n",
            "Number of consonants: 3\n"
          ]
        }
      ]
    },
    {
      "cell_type": "markdown",
      "source": [
        "''' searching  \n",
        "   1.Linear\n",
        "   2.binary\n",
        "   3.sentinal serach\n",
        "   4.fibonacci search\n",
        "   5.interpolation search '''\n",
        "   "
      ],
      "metadata": {
        "id": "QRdXi8ZMhbe0"
      }
    },
    {
      "cell_type": "markdown",
      "source": [
        "Linear Search: In sorted or Unsorted arrays\n",
        "\n",
        "1.   arr of list size n\n",
        "2.   key for serach element\n",
        "3.start with 0 index\n",
        "4.compare arr[i]==key\n",
        "          arr[i]=key return index\n",
        "          else not(move to next index)\n",
        "5.repeat same steps till n-1\n",
        "6.if no match return -1\n",
        "\n",
        "\n",
        "\n",
        "\n"
      ],
      "metadata": {
        "id": "cJAYEqY8hn9k"
      }
    },
    {
      "cell_type": "code",
      "source": [
        "def linear_serach(arr,key):\n",
        "  for i in range(len(arr)):\n",
        "    if arr[i]==key:\n",
        "      return i\n",
        "    else:\n",
        "      return -1\n",
        "size=int(input(\"Enter the size of array:\"))\n",
        "arr=[]\n",
        "print(\"Enter the elements:\")\n",
        "for i in range(size):\n",
        "  num=int(input(f\"Element {i+1}:\"))\n",
        "  arr.append(num)\n",
        "key =int(input(\"ENter the element to serach\"))\n",
        "result=linear_serach(arr,key)\n",
        "if result!=-1:\n",
        "  print(f\"\\n Element {key} found at index {result}\")\n",
        "else:\n",
        "  print(f\"\\n Element {key} not found\")"
      ],
      "metadata": {
        "colab": {
          "base_uri": "https://localhost:8080/"
        },
        "id": "pma0PY4gep3d",
        "outputId": "9ff81457-9538-4f3f-95ed-23aa786cb416"
      },
      "execution_count": null,
      "outputs": [
        {
          "output_type": "stream",
          "name": "stdout",
          "text": [
            "Enter the size of array:4\n",
            "Enter the elements:\n",
            "Element 1:4\n",
            "Element 2:6\n",
            "Element 3:7\n",
            "Element 4:7\n",
            "ENter the element to serach:6\n",
            "\n",
            " Element 6 found at index 1\n"
          ]
        }
      ]
    },
    {
      "cell_type": "markdown",
      "source": [
        "**Binary Search**\n",
        "\n",
        "\n",
        "1.   array must be sorted\n",
        "2.   array is divided into 2 seperate parts\n",
        "\n",
        "**PseudoCode:**\n",
        "set low and high 0-(n-1)\n",
        "\n",
        "condition low<=high\n",
        "\n",
        "mid=low+high//2\n",
        "\n",
        "arr[mid] == key return mid\n",
        "\n",
        "arr[mid] < key low mid+1\n",
        "\n",
        "arr[mid] > key  high mid-1\n",
        "\n",
        "not found return -1\n"
      ],
      "metadata": {
        "id": "0iw84m7csrmh"
      }
    },
    {
      "cell_type": "code",
      "source": [
        "def binary_search(arr,key):\n",
        "  low=0\n",
        "  high=len(arr)-1  # Corrected line\n",
        "  while low<=high:\n",
        "    mid=(low+high)//2\n",
        "    if arr[mid]==key:\n",
        "      return mid\n",
        "    elif arr[mid]<key:\n",
        "      low=mid+1\n",
        "    else:\n",
        "      high=mid-1\n",
        "  return -1\n",
        "\n",
        "size=int(input(\"enter elements:\"))\n",
        "arr=[]\n",
        "print(\"enter the elements:\")\n",
        "for i in range(size):\n",
        "  while True: # Add a loop for input validation\n",
        "    try:\n",
        "      num=int(input(f\"Element {i+1}:\"))\n",
        "      break # Exit the loop if input is a valid integer\n",
        "    except ValueError:\n",
        "      print(\"Invalid input. Please enter an integer.\"54)\n",
        "  arr.append(num)\n",
        "\n",
        "while True: # Add a loop for input validation\n",
        "  try:\n",
        "    key =int(input(\"ENter the element to serach:\"))\n",
        "    break # Exit the loop if input is a valid integer\n",
        "  except ValueError:\n",
        "    print(\"Invalid input. Please enter an integer.\")\n",
        "\n",
        "result=binary_search(arr,key)\n",
        "if result!=-1:\n",
        "  print(f\"\\n Element {key} found at index {result}\")\n",
        "else:\n",
        "  print(f\"\\n Element {key} not found\")"
      ],
      "metadata": {
        "id": "-rSq41G4mMvv",
        "colab": {
          "base_uri": "https://localhost:8080/"
        },
        "outputId": "7f3b496d-7626-478e-bf0f-8e4824b7a043"
      },
      "execution_count": null,
      "outputs": [
        {
          "output_type": "stream",
          "name": "stdout",
          "text": [
            "enter elements:4\n",
            "enter the elements:\n",
            "Element 1:5\n",
            "Element 2:\n",
            "Invalid input. Please enter an integer.\n",
            "Element 2:45\n",
            "Element 3:54\n",
            "Element 4:54\n",
            "ENter the element to serach:54\n",
            "\n",
            " Element 54 found at index 2\n"
          ]
        }
      ]
    },
    {
      "cell_type": "markdown",
      "source": [
        "\n",
        "\n",
        "\n",
        "\n",
        "1.size n/stored\n",
        "\n",
        "2.create a block key\n",
        "\n",
        "3.search operation will be performed arr[m] <var/key <arr(k+1)[m]\n",
        "\n",
        "4.compare each jump linearly\n",
        "\n"
      ],
      "metadata": {
        "id": "-KNnd2baaDM3"
      }
    },
    {
      "cell_type": "code",
      "source": [
        "import math\n",
        "def jump_search(arr,target):\n",
        "  if not arr:\n",
        "    return -1\n",
        "  n=len(arr)\n",
        "  step=int(math.sqrt(n))\n",
        "  prev=0\n",
        "  while prev < n and arr[prev]<target:\n",
        "    prev+=step\n",
        "  for i in range(max(0,prev-step),min(min(n,prev+1)):\n",
        "    if arr[1]==target:\n",
        "\n",
        "arr=[1,3,5,7,8,9,11]\n",
        "target = 7\n",
        "result=jump_search(arr,target)\n",
        "print(f\"Element {target} found at index {result}\")"
      ],
      "metadata": {
        "id": "2fnF5dt9xHka"
      },
      "execution_count": null,
      "outputs": []
    },
    {
      "cell_type": "markdown",
      "source": [
        "1 sorted numbers searching\n",
        "\n",
        "2.check the array!=0m\n",
        "\n",
        "3.check the first element\n",
        "\n",
        "4.find the range using expo while for boundary\n",
        "\n",
        "identify within boundary\n",
        "\n",
        "\n",
        "5.range perform binary search\n",
        "\n",
        "6.return result\n"
      ],
      "metadata": {
        "id": "i18sBzzOlT5v"
      }
    },
    {
      "cell_type": "code",
      "source": [
        "def bserach_range(arr,target,left,right):\n",
        "  while left<=right:\n",
        "    mid=(left+right)//2\n",
        "    if arr[mid]==target:\n",
        "      return mid\n",
        "    elif arr[mid]<target:\n",
        "      left=mid+1\n",
        "    else:\n",
        "      right=mid-1\n",
        "  return -1\n",
        "def expo_search(arr,target):\n",
        "  if not arr:\n",
        "    return -1\n",
        "  if arr[0]==target:\n",
        "    return 0\n",
        "  n=len(arr)\n",
        "  i=1\n",
        "  while i<n and arr[i]<=target:\n",
        "    i*=2\n",
        "  return bserach_range(arr,target,i//2,min(i,n))\n",
        "arr=[2,4,6,8,10,12,14]\n",
        "target =10\n",
        "result = expo_search(arr,target)\n",
        "print(f\"Element {target} found at index:{result}\")\n"
      ],
      "metadata": {
        "colab": {
          "base_uri": "https://localhost:8080/"
        },
        "id": "hUevZu6KlTUw",
        "outputId": "9460c1cd-68fe-4973-c668-57a0d71688b8"
      },
      "execution_count": null,
      "outputs": [
        {
          "output_type": "stream",
          "name": "stdout",
          "text": [
            "Element 10 found at index:4\n"
          ]
        }
      ]
    },
    {
      "cell_type": "markdown",
      "source": [
        "# fibonacci search\n",
        "\n",
        "1.  find smallest fibo number\n"
      ],
      "metadata": {
        "id": "nPslDHx5r9J_"
      }
    },
    {
      "cell_type": "code",
      "source": [
        "def fibsearch(arr,target):\n",
        "  if not arr:\n",
        "    return -1\n",
        "  n=len(arr)\n",
        "  fib2=1\n",
        "  fib1=1\n",
        "  fib=fib2+fib1\n",
        "  while fib<n:\n",
        "    fib2=fib1\n",
        "    fib1=fib\n",
        "    fib=fib2+fib1\n",
        "  offset=-1\n",
        "  while fib>1:\n",
        "    i=min(offset+fib2,n-1)\n",
        "    if arr[i]==target:\n",
        "      return i\n",
        "    elif arr[i]<target:\n",
        "      fib=fib1\n",
        "      fib1=fib2\n",
        "      fib2=fib-fib1\n",
        "      offset=i\n",
        "    else: # Corrected indentation of else block\n",
        "      fib=fib2\n",
        "      fib1=fib1-fib2\n",
        "      fib2=fib-fib1\n",
        "  if fib==1 and offset+1<n and arr[offset+1]==target:\n",
        "    return offset+1\n",
        "  return -1\n",
        "arr=[2,4,6,8,10,12]\n",
        "target = 10\n",
        "result=fibsearch(arr,target)\n",
        "print(f\"Element {target} found at index {result}\")"
      ],
      "metadata": {
        "colab": {
          "base_uri": "https://localhost:8080/"
        },
        "id": "ChH4uFv6o35o",
        "outputId": "08a5aa19-6c72-4625-8313-7a1ab6fc2f89"
      },
      "execution_count": null,
      "outputs": [
        {
          "output_type": "stream",
          "name": "stdout",
          "text": [
            "Element 10 found at index 4\n"
          ]
        }
      ]
    },
    {
      "cell_type": "markdown",
      "source": [
        "Selection,Insertion,Bubble,quick,counting,radix,heap\n",
        "\n",
        "#Selection Sort\n",
        "\n",
        "1.selct lowvalue\n",
        "\n",
        "2.swap with min index value\n",
        "\n",
        "3.check next lowest swap with i[0]+1\n",
        "\n",
        "\"Pseudocode\"\n",
        "\n",
        "for -> 0 to n-1:\n",
        "        min=i\n",
        "        for j -> i+1 to n:\n",
        "                if arr[j]<arr[min]\n",
        "                        swap\n",
        "min=i+1\n",
        "\n",
        "\n"
      ],
      "metadata": {
        "id": "olpD7pDTr7tI"
      }
    },
    {
      "cell_type": "code",
      "source": [
        "def selection_sort(arr):\n",
        "  n=len(arr)\n",
        "  for i in range(n):\n",
        "    min_index=i\n",
        "    for j in range(i+1,n):\n",
        "      if arr[j]>arr[min_index]:\n",
        "        min_index=j\n",
        "    arr[i],arr[min_index]=arr[min_index],arr[i]\n",
        "  return arr\n",
        "size=int(input(\"Enter the number of elements:\"))\n",
        "arr=[]\n",
        "print(\"Enter\", size,\" elements:\")\n",
        "for _ in range(size):\n",
        "  num=int(input())\n",
        "  arr.append(num)\n",
        "result=selection_sort(arr)\n",
        "print(\"Sorted array\",result)"
      ],
      "metadata": {
        "colab": {
          "base_uri": "https://localhost:8080/"
        },
        "id": "xz5z8I8pwagY",
        "outputId": "e8083d4d-6135-4d3d-b552-0d3336e4d8d5"
      },
      "execution_count": null,
      "outputs": [
        {
          "output_type": "stream",
          "name": "stdout",
          "text": [
            "Enter the number of elements:5\n",
            "Enter 5  elements:\n",
            "23\n",
            "43\n",
            "32\n",
            "54\n",
            "65\n",
            "Sorted array [65, 54, 43, 32, 23]\n"
          ]
        }
      ]
    },
    {
      "cell_type": "markdown",
      "source": [
        "#insertion Sort\n",
        "Algorithm\n",
        "\n",
        "1.Start from the second elemnt(i=1)\n",
        "\n",
        "2.previous index value elemnt check\n",
        "\n",
        "3.shift larger element one position to the right\n",
        "\n",
        "4.insert the current elemnt in the correct position\n",
        "5. repeat until sorted\n",
        "\n",
        "for i ->1 to n-1\n",
        "\n",
        "key=arr[i]\n",
        "\n",
        "j=i-1\n",
        "\n",
        "while j>0 and arr[j]>key\n",
        "\n",
        "arr[j+1]=arr[j]\n",
        "\n",
        "j-=1\n",
        "\n",
        "arr[j+1]=key\n"
      ],
      "metadata": {
        "id": "b8lkR0IO9Tif"
      }
    },
    {
      "cell_type": "code",
      "source": [
        "def insertion_sort(arr):\n",
        "  n=len(arr)\n",
        "  for i in range(1,len(arr)):\n",
        "    key=arr[i]\n",
        "    j=i-1\n",
        "    while j>=0 and len(arr[j])>len(key):\n",
        "      arr[j+1]=arr[j]\n",
        "      j-=1\n",
        "    arr[j+1]=key\n",
        "  return arr\n",
        "\n",
        "size=int(input(\"Enter the number of elements:\"))\n",
        "arr=[]\n",
        "print(\"Enter\", size,\" elements:\")\n",
        "for _ in range(size):\n",
        "  name=(input())    # removed num as names for char\n",
        "  arr.append(name)\n",
        "result=insertion_sort(arr)\n",
        "print(\"Sorted array\",result)"
      ],
      "metadata": {
        "colab": {
          "base_uri": "https://localhost:8080/"
        },
        "id": "fk8s9Z5t5bnQ",
        "outputId": "e419e24b-d6fb-4c95-9a6a-f7dd913c9ea5"
      },
      "execution_count": null,
      "outputs": [
        {
          "output_type": "stream",
          "name": "stdout",
          "text": [
            "Enter the number of elements:5\n",
            "Enter 5  elements:\n",
            "we\n",
            "re\n",
            "ffg\n",
            "gr\n",
            "fgd\n",
            "Sorted array ['we', 're', 'gr', 'ffg', 'fgd']\n"
          ]
        }
      ]
    },
    {
      "cell_type": "code",
      "source": [],
      "metadata": {
        "id": "GDgJVU1tEJXn"
      },
      "execution_count": null,
      "outputs": []
    },
    {
      "cell_type": "code",
      "metadata": {
        "colab": {
          "base_uri": "https://localhost:8080/"
        },
        "id": "6b8ebe2b",
        "outputId": "8fa2f5d4-eef7-407b-b820-973d4f63e7cf"
      },
      "source": [
        "def insertion_sort_strings(string_list):\n",
        "  \"\"\"Sorts a list of strings using insertion sort.\"\"\"\n",
        "  n = len(string_list)\n",
        "  for i in range(1, n):\n",
        "    key = string_list[i]\n",
        "    j = i - 1\n",
        "    while j >= 0 and string_list[j] > key:\n",
        "      string_list[j + 1] = string_list[j]\n",
        "      j -= 1\n",
        "    string_list[j + 1] = key\n",
        "  return string_list\n",
        "\n",
        "# Example usage:\n",
        "my_strings = [\"banana\", \"apple\", \"cherry\", \"date\", \"grape\"]\n",
        "sorted_strings = insertion_sort_strings(my_strings)\n",
        "print(\"Original list of strings:\", my_strings)\n",
        "print(\"Sorted list of strings:\", sorted_strings)"
      ],
      "execution_count": null,
      "outputs": [
        {
          "output_type": "stream",
          "name": "stdout",
          "text": [
            "Original list of strings: ['apple', 'banana', 'cherry', 'date', 'grape']\n",
            "Sorted list of strings: ['apple', 'banana', 'cherry', 'date', 'grape']\n"
          ]
        }
      ]
    },
    {
      "cell_type": "code",
      "source": [
        "\n",
        "\n",
        "def insertion_sort_string(s):\n",
        "\n",
        "  list_s = list(s)\n",
        "  n = len(list_s)\n",
        "  for i in range(1, n):\n",
        "    key = list_s[i]\n",
        "    j = i - 1\n",
        "    while j >= 0 and list_s[j] > key:\n",
        "      list_s[j + 1] = list_s[j]\n",
        "      j -= 1\n",
        "    list_s[j + 1] = key\n",
        "  return \"\".join(list_s)\n",
        "\n",
        "input_string = input(\"Enter a string: \")\n",
        "sorted_string = insertion_sort_string(input_string)\n",
        "print(sorted_string)"
      ],
      "metadata": {
        "colab": {
          "base_uri": "https://localhost:8080/"
        },
        "id": "dLGEgbR8SfKs",
        "outputId": "855c7741-5993-4247-c810-340c6eaa46bc"
      },
      "execution_count": null,
      "outputs": [
        {
          "output_type": "stream",
          "name": "stdout",
          "text": [
            "Enter a string: lasya\n",
            "aalsy\n"
          ]
        }
      ]
    },
    {
      "cell_type": "markdown",
      "source": [
        "# 08-07-25\n",
        "\n",
        "Sortings:\n",
        "Bubble Sort\n",
        "\n",
        "Counting Sort\n",
        "\n",
        "Comb Sort\n",
        "\n",
        "\n",
        "#Algorithm for bubble sort\n",
        "1.start from the begining of the array/list 2\n",
        "\n",
        "2.compare each pair to adjacent number\n",
        "\n",
        "3.if lastest element is greater than adjacent perform swap\n",
        "\n",
        "4.repeat this process till n-1\n",
        "\n",
        "5.after each cycle largest largest unsorted is or would be in correct position\n",
        "\n",
        "6.repeat this process until we get the all elements sorted\n",
        "\n",
        "\n",
        "Pseudo:\n",
        "\n",
        "for i-> 0 to n-1\n",
        "\n",
        "for j -> o to n-i-2\n",
        "\n",
        "if a[j]>a[j+1]\n",
        "\n",
        "swap(a[j],a[j+1])"
      ],
      "metadata": {
        "id": "YL2xsvadS5Bv"
      }
    },
    {
      "cell_type": "code",
      "source": [
        "def bubble_sort(arr):\n",
        "  n=len(arr)\n",
        "  for i in range(n):\n",
        "    for j in range(0,n-i-1):\n",
        "      if arr[j]>arr[j+1]:\n",
        "        arr[j],arr[j+1]=arr[j+1],arr[j]\n",
        "\n",
        "size= int(input(\"enter the no of elements:\"))\n",
        "arr=[]\n",
        "print(\"enter the elements\")\n",
        "for _ in range(size):\n",
        "  arr.append(int(input()))\n",
        "print(\"original list:\",arr)\n",
        "bubble_sort(arr)\n",
        "print(\"BubbleSorted\",arr)"
      ],
      "metadata": {
        "id": "EIfUCQTwSxa0",
        "colab": {
          "base_uri": "https://localhost:8080/"
        },
        "outputId": "7ce68bf2-1030-4ac6-dfa3-c07ea6fed20b"
      },
      "execution_count": null,
      "outputs": [
        {
          "output_type": "stream",
          "name": "stdout",
          "text": [
            "enter the no of elements:5\n",
            "enter the elements\n",
            "32\n",
            "54\n",
            "324\n",
            "654\n",
            "76\n",
            "original list: [32, 54, 324, 654, 76]\n",
            "BubbleSorted [32, 54, 76, 324, 654]\n"
          ]
        }
      ]
    },
    {
      "cell_type": "markdown",
      "source": [
        "#Counting Sort\n",
        "\n",
        "\n",
        "if a[j]>a[j+1]\n",
        "\n",
        "swap(a[j],a[j+1])\n",
        "\n",
        "2-1-1-0-2-5-4-0-2-8-7-7-9-2-0-1-9\n",
        "\n",
        "\n",
        "\n",
        "non-comparision sort\n",
        "\n",
        "\n",
        "1.no -ve numbers\n",
        "\n",
        "2.no long numbers\n",
        "\n",
        "3.short confirmed numbers only ex:0-100\n",
        "\n",
        "#Algorithm\n",
        "\n",
        "1.find max min of array\n",
        "\n",
        "2.min!<0\n",
        "\n",
        "3.create a count array  to store frequency of numbers\n",
        "\n",
        "4.modify the count array  for each eleement to be store the sum of previous counts\n",
        "\n",
        "5.place the output array back to the original array\n",
        "\n",
        "#Pseudocode\n",
        "\n",
        "countsort(arr,n):\n",
        "\n",
        "1.find the max in arr\n",
        "\n",
        "\n",
        "2.craete count(0-max)\n",
        "\n",
        "\n",
        "3.fror i -> 0 to n-1:\n",
        "\n",
        "count[a[i]]+=1\n",
        "\n",
        "\n",
        "4.for i->1 to max_value\n",
        "\n",
        "count[i]+=count[i-1]\n",
        "\n",
        "create output arr[n]\n",
        "\n",
        "\n",
        "5.for i >n-1  to 0\n",
        "\n",
        "output[count[a[i]]-1]=a[i]\n",
        "\n",
        "count[a[i]]-=1\n",
        "\n",
        "\n",
        "copy output to arr\n"
      ],
      "metadata": {
        "id": "EuGBaPYWbq0o"
      }
    },
    {
      "cell_type": "code",
      "source": [
        "def counting_sort(arr,n):\n",
        "  max_val=max(arr)\n",
        "  min_val=min(arr)\n",
        "  count_arr=[0]*(max_val-min_val+1)\n",
        "  for num in arr:\n",
        "    count_arr[num-min_val]+=1\n",
        "\n",
        "\n",
        "size= int(input(\"enter the no of elements:\"))\n",
        "arr=[]\n",
        "print(\"enter the elements\")\n",
        "for _ in range(size):\n",
        "  arr.append(int(input()))\n",
        "print(\"original list:\",arr)\n",
        "counting_sort(arr)\n",
        "print(\"CountingSorted\",arr)"
      ],
      "metadata": {
        "colab": {
          "base_uri": "https://localhost:8080/"
        },
        "id": "mVfj8_fPbc3Q",
        "outputId": "f15c8dd7-b7d7-48f2-b6c8-fba5b2c4560f"
      },
      "execution_count": null,
      "outputs": [
        {
          "output_type": "stream",
          "name": "stdout",
          "text": [
            "enter the no of elements:4\n",
            "enter the elements\n",
            "34\n",
            "54\n",
            "32\n",
            "54\n",
            "original list: [34, 54, 32, 54]\n",
            "CountingSorted [34, 54, 32, 54]\n"
          ]
        }
      ]
    },
    {
      "cell_type": "code",
      "source": [
        "def csort(arr):\n",
        "  if not arr:\n",
        "    return []\n",
        "  max_val=max(arr)\n",
        "  count=[0]*(max_val+1)\n",
        "  #freq\n",
        "  for num in arr:\n",
        "    count[num]+=1\n",
        "  #count\n",
        "  for i in range(1,len(count)):\n",
        "    count[i]+=count[i-1]\n",
        "  output=[0]*len(arr)\n",
        "  #stable sort\n",
        "\n",
        "  for num in reversed(arr):\n",
        "    output[count[num]-1]=num\n",
        "    count[num] -=1\n",
        "\n",
        "  #count\n",
        "  for i in range(len(arr)):\n",
        "    arr[i]=output[i]\n",
        "\n",
        "arr=[21,45,56,43,65]\n",
        "print(\"Before:\",arr)\n",
        "csort(arr)\n",
        "print(\"After :\",arr)\n"
      ],
      "metadata": {
        "colab": {
          "base_uri": "https://localhost:8080/"
        },
        "id": "oSWpzlpmiA76",
        "outputId": "2aabd8f4-74d1-4afc-c336-624053b19a78"
      },
      "execution_count": null,
      "outputs": [
        {
          "output_type": "stream",
          "name": "stdout",
          "text": [
            "Before: [21, 45, 56, 43, 65]\n",
            "After : [21, 43, 45, 56, 65]\n"
          ]
        }
      ]
    },
    {
      "cell_type": "markdown",
      "source": [
        "#Counting Sort"
      ],
      "metadata": {
        "id": "zyBJM1gVZyYO"
      }
    },
    {
      "cell_type": "code",
      "source": [
        "def csortString(s):\n",
        "  count=[0]*26\n",
        "  for char in s:\n",
        "    if 'a' <= char <= 'z': # Only process lowercase English letters\n",
        "      count[ord(char)-ord('a')]+=1\n",
        "  sorted_str=''\n",
        "  for i in range(26):\n",
        "    sorted_str+=chr(i+ord('a'))*count[i]\n",
        "  return sorted_str\n",
        "\n",
        "name =input(\"Enter the single word  :\")\n",
        "sorted_name=csortString(name)\n",
        "print(\"Original String:\",name)\n",
        "print(\"Sorted String:\",sorted_name)"
      ],
      "metadata": {
        "id": "tkw9vv_gtSOp",
        "colab": {
          "base_uri": "https://localhost:8080/"
        },
        "outputId": "d7b4a764-c2c4-49b8-b150-d4a669d0b1ec"
      },
      "execution_count": null,
      "outputs": [
        {
          "output_type": "stream",
          "name": "stdout",
          "text": [
            "Enter the single word  :love you bacheeeeeeeeeee\n",
            "Original String: love you bacheeeeeeeeeee\n",
            "Sorted String: abceeeeeeeeeeeehloouvy\n"
          ]
        }
      ]
    },
    {
      "cell_type": "markdown",
      "source": [
        "#Radix Sort\n",
        "\n",
        "1.find the maximum number to determine number of digits\n",
        "\n",
        "\n",
        "2.sect 10^0,for digits position\n",
        "\n",
        "3.increment digit position wrt pass\n",
        "\n",
        "4.loop -> maxnum//exp>0\n",
        "\n",
        "perform countsort based on current digit\n",
        "\n",
        "(num//exp)%10\n",
        "\n",
        "multiply exp by 10\n",
        "\n"
      ],
      "metadata": {
        "id": "NLYvZM3Dp4J8"
      }
    },
    {
      "cell_type": "code",
      "source": [
        "def count_sort(arr,exp):\n",
        "  n=len(arr)\n",
        "  output=[0]*n\n",
        "  count=[0]*10\n",
        "  for i in range(n):\n",
        "    index=(arr[i]//exp)%10\n",
        "    count[index]+=1\n",
        "  for i in range(1,10):\n",
        "    count[i]+=count[i-1]\n",
        "  i=n-1\n",
        "  while i>0:\n",
        "    index=(arr[i]//exp)%10\n",
        "    output[count[index]-1]=arr[i]\n",
        "    count[index]-=1\n",
        "    i-=1\n",
        "  for i in range(n):\n",
        "    arr[i]=output[i]\n",
        "def radix_sort(arr):\n",
        "  max_num=max(arr)\n",
        "  exp=1\n",
        "  while max_num//exp>0:\n",
        "    count_sort(arr,exp)\n",
        "    exp*=10\n",
        "\n",
        "arr=[170,45,75,90,802,24,3,66]\n",
        "print(\"Before sort\",arr)\n",
        "radix_sort(arr)\n",
        "print(\"After sort\",arr)\n"
      ],
      "metadata": {
        "id": "KuwiZ7U_c4JW",
        "colab": {
          "base_uri": "https://localhost:8080/"
        },
        "outputId": "f71cae90-a5c1-48eb-bc89-ec41f6b1d2c3"
      },
      "execution_count": null,
      "outputs": [
        {
          "output_type": "stream",
          "name": "stdout",
          "text": [
            "Before sort [170, 45, 75, 90, 802, 24, 3, 66]\n",
            "After sort [0, 3, 24, 45, 66, 75, 90, 802]\n"
          ]
        }
      ]
    },
    {
      "cell_type": "markdown",
      "source": [
        "#12-07-25\n",
        "#pancake sort\n",
        "1.highest value\n",
        "\n",
        "2.high value flip\n",
        "\n",
        "3.total flip\n",
        "\n",
        "4.set high value\n",
        "\n",
        "#Algorithm\n",
        "\n",
        "1.start complete array and decrease the size (n-1)\n",
        "\n",
        "2.for each size:\n",
        "\n",
        "a:find the index of max elements\n",
        "\n",
        "b:flip the array with max element\n",
        "\n",
        "c:for each size flip the total array to the current size\n",
        "\n",
        "max-> move to the end of the array\n",
        "\n",
        "3.repeat step1 by n-2,n-3 ....\n",
        "\n",
        "for each nth reduced element perform step2 until 0th index value respectively\n",
        "\n"
      ],
      "metadata": {
        "id": "ROf3RP1jyZWK"
      }
    },
    {
      "cell_type": "code",
      "source": [
        "def flip(arr,k):\n",
        "  return arr[:k+1][::-1]+arr[k+1:]\n",
        "def pancake(arr):\n",
        "  n=len(arr)\n",
        "  for size in range(n,1,-1):\n",
        "    max_index=arr.index(max(arr[:size]))\n",
        "    if max_index!=size-1:\n",
        "      if max_index!=0:\n",
        "        arr=flip(arr,max_index+1)\n",
        "        print(f\"Flip at {max_index+1}: {arr}\")\n",
        "      arr=flip(arr,size-1)\n",
        "      print(f\"Flip at {size}: {arr}\")\n",
        "  return arr\n",
        "nums=list(map(int,input(\"Enter numbers seperated with space:\").split()))\n",
        "sorted_nums=pancake(nums)\n",
        "print(\"Sorted\",sorted_nums)\n"
      ],
      "metadata": {
        "id": "uIwNQA2jzFO-",
        "colab": {
          "base_uri": "https://localhost:8080/"
        },
        "outputId": "eafa1104-fc3e-40f1-8df6-c0cddb72eb33"
      },
      "execution_count": null,
      "outputs": [
        {
          "output_type": "stream",
          "name": "stdout",
          "text": [
            "Enter numbers seperated with space:4 5 3 2 5 7 6\n",
            "Flip at 6: [6, 7, 5, 2, 3, 5, 4]\n",
            "Flip at 7: [4, 5, 3, 2, 5, 7, 6]\n",
            "Flip at 2: [3, 5, 4, 2, 5, 7, 6]\n",
            "Flip at 5: [5, 2, 4, 5, 3, 7, 6]\n",
            "Flip at 4: [5, 4, 2, 5, 3, 7, 6]\n",
            "Flip at 3: [2, 4, 5, 5, 3, 7, 6]\n",
            "Sorted [2, 4, 5, 5, 3, 7, 6]\n"
          ]
        }
      ]
    },
    {
      "cell_type": "markdown",
      "source": [
        "#file handling\n",
        "\n",
        "files\n",
        "\n",
        "types\n",
        "\n",
        "paths\n",
        "\n",
        "open/close\n",
        "\n",
        "reading\n",
        "\n",
        "writing\n",
        "\n",
        "appending data into the file\n",
        "\n",
        "file,dictionary\n",
        "\n",
        "os module methods\n",
        "\n",
        "relative path\n",
        "\n",
        "absolute path\n",
        "\n",
        "file types\n"
      ],
      "metadata": {
        "id": "b-XBAQ1k_rAP"
      }
    },
    {
      "cell_type": "markdown",
      "source": [
        "open-file=open(\"filename.format\"),\"mode\")\n",
        "close-file"
      ],
      "metadata": {
        "id": "GHVuSOnIB59H"
      }
    },
    {
      "cell_type": "code",
      "source": [
        "file =open(\"exam.txt\",\"r\")\n",
        "data=file.read()\n",
        "print(data)\n",
        "file.close()"
      ],
      "metadata": {
        "colab": {
          "base_uri": "https://localhost:8080/"
        },
        "id": "Op0Fy0LR9-DJ",
        "outputId": "bd3e2f2f-44e6-4751-8910-0883e76dc418"
      },
      "execution_count": null,
      "outputs": [
        {
          "output_type": "stream",
          "name": "stdout",
          "text": [
            "hey it's me again i'm back ASAP\n"
          ]
        }
      ]
    },
    {
      "cell_type": "code",
      "source": [
        "file=open(\"text.txt\",\"a\")\n",
        "file.write(\"my lil soda pop \")\n",
        "file.close()"
      ],
      "metadata": {
        "id": "TGqS2h_BDmHv"
      },
      "execution_count": null,
      "outputs": []
    },
    {
      "cell_type": "code",
      "source": [
        "with open(\"sample_binary.bin\",\"wb\") as file:\n",
        "  data=b'\\x48\\x65\\x6C\\x6C\\x6F'\n",
        "  file.write(data)"
      ],
      "metadata": {
        "id": "i2qMNLqUFxTo"
      },
      "execution_count": null,
      "outputs": []
    },
    {
      "cell_type": "markdown",
      "source": [
        "#file\n",
        "\n",
        "fileno()=file number\n",
        "\n",
        "flush()=file stream refresh\n",
        "\n",
        "readline/readlines\n",
        "\n",
        "truncate()\n",
        "\n",
        "rstrip()\n",
        "\n",
        "strip()\n",
        "#question\n",
        "\n",
        "Program tht accepts filename as an input\n",
        "\n",
        "from the user\n",
        "\n",
        "open then file and count the number of times a charecter appears in the file"
      ],
      "metadata": {
        "id": "AAdkClgRO8Me"
      }
    },
    {
      "cell_type": "code",
      "source": [
        "filename= input(\"enter the filename:\")\n",
        "with open(filename)as file :\n",
        "  text=file.read()\n",
        "  letter=input(\"Enter a char:\")\n",
        "  c=0\n",
        "  for char in text:\n",
        "    if char==letter:\n",
        "      c+=1\n",
        "print(letter,\"appears\",c,\"times in the file\")"
      ],
      "metadata": {
        "colab": {
          "base_uri": "https://localhost:8080/"
        },
        "id": "jE46ubchL7DW",
        "outputId": "32b4a3d8-9fa8-4845-8d67-e36e8ff50a26"
      },
      "execution_count": null,
      "outputs": [
        {
          "output_type": "stream",
          "name": "stdout",
          "text": [
            "enter the filename:text.txt\n",
            "Enter a char:l\n",
            "l appears 2 times in the file\n"
          ]
        }
      ]
    },
    {
      "cell_type": "code",
      "source": [
        "import os\n",
        "os.rename(\"text.txt\",\"lulu.txt\")\n",
        "print(\"file renamed\")"
      ],
      "metadata": {
        "colab": {
          "base_uri": "https://localhost:8080/"
        },
        "id": "d4qTSGjwSLom",
        "outputId": "fdc279bb-7c62-4abd-f5e6-e3b7ccc1388f"
      },
      "execution_count": null,
      "outputs": [
        {
          "output_type": "stream",
          "name": "stdout",
          "text": [
            "file renamed\n"
          ]
        }
      ]
    },
    {
      "cell_type": "code",
      "source": [
        "file=open(\"text.txt\",\"w\")\n",
        "file.write(\"pichi lesindhaaa vatsalya\")\n",
        "file.close()"
      ],
      "metadata": {
        "id": "YdSsKiY1VnUd"
      },
      "execution_count": null,
      "outputs": []
    },
    {
      "cell_type": "code",
      "source": [
        "import os\n",
        "os.remove(\"text.txt\")\n",
        "print(\"govindha goooovindha\")"
      ],
      "metadata": {
        "colab": {
          "base_uri": "https://localhost:8080/"
        },
        "id": "fwilc8x7YMFd",
        "outputId": "e88b2d0b-821a-44f8-fbe1-2887c567f0ad"
      },
      "execution_count": null,
      "outputs": [
        {
          "output_type": "stream",
          "name": "stdout",
          "text": [
            "govindha goooovindha\n"
          ]
        }
      ]
    },
    {
      "cell_type": "markdown",
      "source": [
        "#19-07-2025\n",
        "#Exception Handling\n",
        "errors-logical errors/syntax\n",
        "\n",
        "Exceptions-sync async\n",
        "\n",
        "**Exception**-for base classes\n",
        "\n",
        "**ArithmeticError** - math errors\n",
        "\n",
        "**ZeroDivisionError**-4/0\n",
        "\n",
        "**StopIteration**-next method or iterator not availale/condition not available\n",
        "\n",
        "**SystemExit**-current os exit\n",
        "\n",
        "**StandardError**-pre defined keywords\n",
        "\n",
        "**EOFError**=i/o till endoffile\n",
        "\n",
        "**ImportError**-file existing errors\n",
        "\n",
        "**KeyboardInterrupt**-execution interrupt\n",
        "\n",
        "**NameError**-  Variable or function name not defined\n",
        "\n",
        "**ValueError**-\n",
        "\n",
        "**IndexError**-\n",
        "\n",
        "**TypeError**-\n",
        "\n",
        "**IOError**-\n",
        "\n",
        "**Syntaxerror**-\n",
        "\n",
        "**RuntimeError**-\n",
        "\n",
        "**IndentationError**-"
      ],
      "metadata": {
        "id": "WH6QSIxo4AMy"
      }
    },
    {
      "cell_type": "code",
      "source": [
        "try:\n",
        "  num1=int(input(\"enter numerator:\"))\n",
        "  num2=int(input(\"enter denominator:\"))\n",
        "  result=num1/num2\n",
        "  print(\"result:\",result)\n",
        "except ZeroDivisionError:\n",
        "  print(\"cannot divide by zero.................\")"
      ],
      "metadata": {
        "id": "x36EeQm5Yem0",
        "colab": {
          "base_uri": "https://localhost:8080/"
        },
        "outputId": "e042b020-ad35-4457-865a-559ddb18be21"
      },
      "execution_count": null,
      "outputs": [
        {
          "output_type": "stream",
          "name": "stdout",
          "text": [
            "enter numerator:6\n",
            "enter denominator:5\n",
            "result: 1.2\n"
          ]
        }
      ]
    },
    {
      "cell_type": "code",
      "source": [
        "try:\n",
        "  filename=input(\"enter the filename:\")\n",
        "  file=open(filename,\"r\")\n",
        "  print(\"number from file\",number)\n",
        "  file.close()\n",
        "except FileNotFoundError:\n",
        "  print(\"File ledhu broooooooooooooo\")\n",
        "except ValueError:\n",
        "  print(\"Invalid input,file doesnot have an integer......\")\n",
        "except Exception as e:\n",
        "  print(\"An error occured:\",str(e))\n",
        "except:\n",
        "  print(\"An unknown error occured\")"
      ],
      "metadata": {
        "colab": {
          "base_uri": "https://localhost:8080/"
        },
        "id": "zz6X8HZnCJkp",
        "outputId": "0a7ba2d5-7cde-4410-a23d-ff4dd84917ba"
      },
      "execution_count": null,
      "outputs": [
        {
          "output_type": "stream",
          "name": "stdout",
          "text": [
            "enter the filename:SFLOK.TXT\n",
            "File ledhu broooooooooooooo\n"
          ]
        }
      ]
    },
    {
      "cell_type": "code",
      "source": [
        "try:\n",
        "  filename=input(\"enter the filename:\")\n",
        "  file=open(filename,\"r\")\n",
        "  number=int(file.readline())\n",
        "  print(\"number from file\",number)\n",
        "  file.close()\n",
        "except FileNotFoundError:\n",
        "  print(\"File ledhu broooooooooooooo\")\n",
        "except ValueError:\n",
        "  print(\"Invalid input,file doesnot have an integer......\")\n",
        "except Exception as e:\n",
        "  print(\"An error occured:\",str(e))\n",
        "except:\n",
        "  print(\"An unknown error occured\")"
      ],
      "metadata": {
        "colab": {
          "base_uri": "https://localhost:8080/"
        },
        "id": "dpAYLJ2lFeiZ",
        "outputId": "4cf7aeba-125d-411a-f03b-48b74c7d94d2"
      },
      "execution_count": null,
      "outputs": [
        {
          "output_type": "stream",
          "name": "stdout",
          "text": [
            "enter the filename:sample.txt\n",
            "number from file 86\n"
          ]
        }
      ]
    },
    {
      "cell_type": "code",
      "source": [
        " try:\n",
        "  num=int(input(\"Enter a number:\"))\n",
        "  print(num**3)\n",
        "except (KeyboardInterrupt,ValueError,TypeError):\n",
        "  print(\"Please check before excecuting\")\n",
        "\n",
        "print(\"An unknown error occured\")"
      ],
      "metadata": {
        "colab": {
          "base_uri": "https://localhost:8080/"
        },
        "id": "7cBsw9SJFicP",
        "outputId": "b3208db5-2fdc-42b8-dd9b-f38450f2e14e"
      },
      "execution_count": null,
      "outputs": [
        {
          "output_type": "stream",
          "name": "stdout",
          "text": [
            "Enter a number:ij\n",
            "Please check before excecuting\n",
            "An unknown error occured\n"
          ]
        }
      ]
    },
    {
      "cell_type": "code",
      "source": [
        "import math\n",
        "try:\n",
        "  num=int(input(\"Enter a number:\"))\n",
        "  if num<0:\n",
        "    raise ValueError(\"negative number not allowed\")\n",
        "except ValueError:\n",
        "  print(\"enter positive number\")\n",
        "else:\n",
        "  print(math.sqrt(num))"
      ],
      "metadata": {
        "colab": {
          "base_uri": "https://localhost:8080/"
        },
        "id": "HGR93Jc_JIyw",
        "outputId": "16d3627c-2844-4bae-b16d-67c607634e7f"
      },
      "execution_count": null,
      "outputs": [
        {
          "output_type": "stream",
          "name": "stdout",
          "text": [
            "Enter a number:fake friend sravani\n",
            "enter positive number\n"
          ]
        }
      ]
    },
    {
      "cell_type": "code",
      "source": [
        "import math\n",
        "try:\n",
        "  num=int(input(\"Enter a number:\"))\n",
        "  print(num)\n",
        "  raise ValueError\n",
        "except:\n",
        "  print(\"EXCEPTION RAISED INTENTIONALLY\")"
      ],
      "metadata": {
        "colab": {
          "base_uri": "https://localhost:8080/"
        },
        "id": "helrs8ZkMQjg",
        "outputId": "dc28b321-a708-4951-c2d3-97b7852b28e5"
      },
      "execution_count": null,
      "outputs": [
        {
          "output_type": "stream",
          "name": "stdout",
          "text": [
            "Enter a number:9\n",
            "9\n",
            "EXCEPTION RAISED INTENTIONALLY\n"
          ]
        }
      ]
    },
    {
      "cell_type": "code",
      "source": [
        "# prompt: do all the exceptions in single program instead of print statement use the file concept and output must present in a file like log file\n",
        "\n",
        "import math\n",
        "import os\n",
        "\n",
        "def log_exception(log_file, exception_type, message):\n",
        "  \"\"\"Logs an exception to the specified file.\"\"\"\n",
        "  with open(log_file, 'a') as f:\n",
        "    f.write(f\"Exception Type: {exception_type.__name__}\\n\")\n",
        "    f.write(f\"Message: {message}\\n\")\n",
        "    f.write(\"-\" * 20 + \"\\n\")\n",
        "\n",
        "LOG_FILE = \"exception_log.txt\"\n",
        "\n",
        "# Clear the log file at the start of the script\n",
        "with open(LOG_FILE, 'w') as f:\n",
        "  pass\n",
        "\n",
        "# Array Operations\n",
        "arr=[10,20,30,40]\n",
        "try:\n",
        "  #insertion\n",
        "  arr.insert(4,50)\n",
        "  arr.insert(2,25)\n",
        "  # Deletion\n",
        "  arr.pop(3)\n",
        "  #traversal\n",
        "  for i in arr:\n",
        "      pass # No print statements here\n",
        "  #searching\n",
        "  pass # No print statements here\n",
        "except Exception as e:\n",
        "  log_exception(LOG_FILE, type(e), str(e))\n",
        "\n",
        "# Extending, Reversing, and Sorting Lists\n",
        "list1 = [1, 2, 3]\n",
        "list2 = [4, 5, 6]\n",
        "try:\n",
        "  # Extend list1 with list2\n",
        "  list1.extend(list2)\n",
        "  # Reverse list1\n",
        "  list1.reverse()\n",
        "  # Sort list1\n",
        "  list1.sort()\n",
        "except Exception as e:\n",
        "  log_exception(LOG_FILE, type(e), str(e))\n",
        "\n",
        "# Counting and Removing Elements\n",
        "numbers = [10, 20, 30, 20, 40, 20]\n",
        "try:\n",
        "  # Count occurrences of 20\n",
        "  count_of_20 = numbers.count(20)\n",
        "  # Remove the first occurrence of 20\n",
        "  numbers.remove(20)\n",
        "except Exception as e:\n",
        "  log_exception(LOG_FILE, type(e), str(e))\n",
        "\n",
        "# List Slicing\n",
        "my_list = [1, 2, 3, 4, 5, 6, 7, 8, 9, 10]\n",
        "try:\n",
        "  # Get a slice from index 2 to 5 (exclusive)\n",
        "  slice1 = my_list[2:5]\n",
        "  # Get a slice from the beginning to index 7 (exclusive)\n",
        "  slice2 = my_list[:7]\n",
        "  # Get a slice from index 5 to the end\n",
        "  slice3 = my_list[5:]\n",
        "  # Get a slice with a step of 2\n",
        "  slice4 = my_list[::2]\n",
        "except Exception as e:\n",
        "  log_exception(LOG_FILE, type(e), str(e))\n",
        "\n",
        "# Palindrome check and character frequency\n",
        "try:\n",
        "  text = \"madam\" # Hardcoded for demonstration without user input\n",
        "  if text == text[::-1]:\n",
        "    pass # No print statements here\n",
        "  else:\n",
        "    pass # No print statements here\n",
        "  freq = {}\n",
        "  for ch in text:\n",
        "    freq[ch] = freq.get(ch, 0) + 1\n",
        "    pass # No print statements here\n",
        "except Exception as e:\n",
        "  log_exception(LOG_FILE, type(e), str(e))\n",
        "\n",
        "\n",
        "# Program to count the number of vowels and consonants in a string\n",
        "try:\n",
        "  input_string = \"hello world\" # Hardcoded for demonstration without user input\n",
        "  input_string = input_string.lower()\n",
        "\n",
        "  vowels = \"aeiou\"\n",
        "  vowel_count = 0\n",
        "  consonant_count = 0\n",
        "\n",
        "  for char in input_string:\n",
        "    if char.isalpha():\n",
        "      if char in vowels:\n",
        "        vowel_count += 1\n",
        "      else:\n",
        "        consonant_count += 1\n",
        "except Exception as e:\n",
        "  log_exception(LOG_FILE, type(e), str(e))\n",
        "\n",
        "# Linear Search\n",
        "def linear_serach(arr,key):\n",
        "  for i in range(len(arr)):\n",
        "    if arr[i]==key:\n",
        "      return i\n",
        "    else:\n",
        "      return -1\n",
        "try:\n",
        "  size = 5 # Hardcoded for demonstration without user input\n",
        "  arr = [10, 20, 30, 40, 50] # Hardcoded for demonstration without user input\n",
        "  key = 30 # Hardcoded for demonstration without user input\n",
        "  result = linear_serach(arr,key)\n",
        "except Exception as e:\n",
        "  log_exception(LOG_FILE, type(e), str(e))\n",
        "\n",
        "# Binary Search\n",
        "def binary_search(arr,key):\n",
        "  low=0\n",
        "  high=len(arr)-1\n",
        "  while low<=high:\n",
        "    mid=(low+high)//2\n",
        "    if arr[mid]==key:\n",
        "      return mid\n",
        "    elif arr[mid]<key:\n",
        "      low=mid+1\n",
        "    else:\n",
        "      high=mid-1\n",
        "  return -1\n",
        "try:\n",
        "  size = 5 # Hardcoded for demonstration without user input\n",
        "  arr = [10, 20, 30, 40, 50] # Hardcoded for demonstration without user input\n",
        "  key = 40 # Hardcoded for demonstration without user input\n",
        "  result = binary_search(arr,key)\n",
        "except Exception as e:\n",
        "  log_exception(LOG_FILE, type(e), str(e))\n",
        "\n",
        "# Jump Search\n",
        "def jump_search(arr,target):\n",
        "  if not arr:\n",
        "    return -1\n",
        "  n=len(arr)\n",
        "  step=int(math.sqrt(n))\n",
        "  prev=0\n",
        "  while prev < n and arr[prev]<target:\n",
        "    prev+=step\n",
        "  for i in range(max(0,prev-step),min(n,prev)): # Corrected loop bound\n",
        "    if arr[i]==target: # Corrected arr[1] to arr[i]\n",
        "      return i\n",
        "  return -1 # Added return statement for not found\n",
        "try:\n",
        "  arr=[1,3,5,7,8,9,11]\n",
        "  target = 7\n",
        "  result = jump_search(arr,target)\n",
        "except Exception as e:\n",
        "  log_exception(LOG_FILE, type(e), str(e))\n",
        "\n",
        "# Exponential Search\n",
        "def bserach_range(arr,target,left,right):\n",
        "  while left<=right:\n",
        "    mid=(left+right)//2\n",
        "    if arr[mid]==target:\n",
        "      return mid\n",
        "    elif arr[mid]<target:\n",
        "      left=mid+1\n",
        "    else:\n",
        "      right=mid-1\n",
        "  return -1\n",
        "def expo_search(arr,target):\n",
        "  if not arr:\n",
        "    return -1\n",
        "  if arr[0]==target:\n",
        "    return 0\n",
        "  n=len(arr)\n",
        "  i=1\n",
        "  while i<n and arr[i]<=target:\n",
        "    i*=2\n",
        "  return bserach_range(arr,target,i//2,min(i,n-1)) # Corrected upper bound\n",
        "try:\n",
        "  arr=[2,4,6,8,10,12,14]\n",
        "  target =10\n",
        "  result = expo_search(arr,target)\n",
        "except Exception as e:\n",
        "  log_exception(LOG_FILE, type(e), str(e))\n",
        "\n",
        "# Fibonacci Search\n",
        "def fibsearch(arr,target):\n",
        "  if not arr:\n",
        "    return -1\n",
        "  n=len(arr)\n",
        "  fib2=1\n",
        "  fib1=1\n",
        "  fib=fib2+fib1\n",
        "  while fib<n:\n",
        "    fib2=fib1\n",
        "    fib1=fib\n",
        "    fib=fib2+fib1\n",
        "  offset=-1\n",
        "  while fib>1:\n",
        "    i=min(offset+fib2,n-1)\n",
        "    if arr[i]==target:\n",
        "      return i\n",
        "    elif arr[i]<target:\n",
        "      fib=fib1\n",
        "      fib1=fib2\n",
        "      fib2=fib-fib1\n",
        "      offset=i\n",
        "    else:\n",
        "      fib=fib2\n",
        "      fib1=fib1-fib2\n",
        "      fib2=fib-fib1\n",
        "  if fib==1 and offset+1<n and arr[offset+1]==target:\n",
        "    return offset+1\n",
        "  return -1\n",
        "try:\n",
        "  arr=[2,4,6,8,10,12]\n",
        "  target = 10\n",
        "  result = fibsearch(arr,target)\n",
        "except Exception as e:\n",
        "  log_exception(LOG_FILE, type(e), str(e))\n",
        "\n",
        "# Selection Sort\n",
        "def selection_sort(arr):\n",
        "  n=len(arr)\n",
        "  for i in range(n):\n",
        "    min_index=i\n",
        "    for j in range(i+1,n):\n",
        "      if arr[j]>arr[min_index]:\n",
        "        min_index=j\n",
        "    arr[i],arr[min_index]=arr[min_index],arr[i]\n",
        "  return arr\n",
        "try:\n",
        "  size = 5 # Hardcoded for demonstration without user input\n",
        "  arr = [64, 25, 12, 22, 11] # Hardcoded for demonstration without user input\n",
        "  result = selection_sort(arr)\n",
        "except Exception as e:\n",
        "  log_exception(LOG_FILE, type(e), str(e))\n",
        "\n",
        "# Insertion Sort\n",
        "def insertion_sort(arr):\n",
        "  n=len(arr)\n",
        "  for i in range(1,len(arr)):\n",
        "    key=arr[i]\n",
        "    j=i-1\n",
        "    while j>=0 and arr[j]>key: # Corrected comparison for general type\n",
        "      arr[j+1]=arr[j]\n",
        "      j-=1\n",
        "    arr[j+1]=key\n",
        "  return arr\n",
        "\n",
        "def insertion_sort_strings(string_list):\n",
        "  \"\"\"Sorts a list of strings using insertion sort.\"\"\"\n",
        "  n = len(string_list)\n",
        "  for i in range(1, n):\n",
        "    key = string_list[i]\n",
        "    j = i - 1\n",
        "    while j >= 0 and string_list[j] > key:\n",
        "      string_list[j + 1] = string_list[j]\n",
        "      j -= 1\n",
        "    string_list[j + 1] = key\n",
        "  return string_list\n",
        "\n",
        "def insertion_sort_string(s):\n",
        "  list_s = list(s)\n",
        "  n = len(list_s)\n",
        "  for i in range(1, n):\n",
        "    key = list_s[i]\n",
        "    j = i - 1\n",
        "    while j >= 0 and list_s[j] > key:\n",
        "      list_s[j + 1] = list_s[j]\n",
        "      j -= 1\n",
        "    list_s[j + 1] = key\n",
        "  return \"\".join(list_s)\n",
        "\n",
        "try:\n",
        "  size = 5 # Hardcoded for demonstration without user input\n",
        "  arr = [12, 11, 13, 5, 6] # Hardcoded for demonstration without user input\n",
        "  result = insertion_sort(arr)\n",
        "\n",
        "  my_strings = [\"banana\", \"apple\", \"cherry\", \"date\", \"grape\"]\n",
        "  sorted_strings = insertion_sort_strings(my_strings)\n",
        "\n",
        "  input_string = \"hello\" # Hardcoded for demonstration without user input\n",
        "  sorted_string = insertion_sort_string(input_string)\n",
        "except Exception as e:\n",
        "  log_exception(LOG_FILE, type(e), str(e))\n",
        "\n",
        "# Bubble Sort\n",
        "def bubble_sort(arr):\n",
        "  n=len(arr)\n",
        "  for i in range(n):\n",
        "    for j in range(0,n-i-1):\n",
        "      if arr[j]>arr[j+1]:\n",
        "        arr[j],arr[j+1]=arr[j+1],arr[j]\n",
        "try:\n",
        "  size = 5 # Hardcoded for demonstration without user input\n",
        "  arr = [5, 1, 4, 2, 8] # Hardcoded for demonstration without user input\n",
        "  bubble_sort(arr)\n",
        "except Exception as e:\n",
        "  log_exception(LOG_FILE, type(e), str(e))\n",
        "\n",
        "# Counting Sort\n",
        "def counting_sort(arr): # Removed n as parameter\n",
        "  if not arr:\n",
        "    return []\n",
        "  max_val=max(arr)\n",
        "  min_val=min(arr)\n",
        "  count_arr=[0]*(max_val-min_val+1)\n",
        "  for num in arr:\n",
        "    count_arr[num-min_val]+=1\n",
        "  # Accumulate counts\n",
        "  for i in range(1, len(count_arr)):\n",
        "    count_arr[i] += count_arr[i-1]\n",
        "  # Build the output array\n",
        "  output = [0] * len(arr)\n",
        "  for num in reversed(arr):\n",
        "    output[count_arr[num - min_val] - 1] = num\n",
        "    count_arr[num - min_val] -= 1\n",
        "  # Copy the sorted elements back to the original array\n",
        "  for i in range(len(arr)):\n",
        "    arr[i] = output[i]\n",
        "  return arr # Return the sorted array\n",
        "\n",
        "def csort(arr):\n",
        "  if not arr:\n",
        "    return []\n",
        "  max_val=max(arr)\n",
        "  count=[0]*(max_val+1)\n",
        "  #freq\n",
        "  for num in arr:\n",
        "    count[num]+=1\n",
        "  #count\n",
        "  for i in range(1,len(count)):\n",
        "    count[i]+=count[i-1]\n",
        "  output=[0]*len(arr)\n",
        "  #stable sort\n",
        "\n",
        "  for num in reversed(arr):\n",
        "    output[count[num]-1]=num\n",
        "    count[num] -=1\n",
        "\n",
        "  #count\n",
        "  for i in range(len(arr)):\n",
        "    arr[i]=output[i]\n",
        "  return arr # Return the sorted array\n",
        "\n",
        "def csortString(s):\n",
        "  count=[0]*26\n",
        "  for char in s:\n",
        "    if 'a' <= char <= 'z': # Only process lowercase English letters\n",
        "      count[ord(char)-ord('a')]+=1\n",
        "  sorted_str=''\n",
        "  for i in range(26):\n",
        "    sorted_str+=chr(i+ord('a'))*count[i]\n",
        "  return sorted_str\n",
        "\n",
        "try:\n",
        "  size = 5 # Hardcoded for demonstration without user input\n",
        "  arr = [21,45,56,43,65] # Hardcoded for demonstration without user input\n",
        "  sorted_arr = counting_sort(arr) # Use corrected counting_sort\n",
        "\n",
        "  arr=[21,45,56,43,65]\n",
        "  csort(arr)\n",
        "\n",
        "  name =\"example\" # Hardcoded for demonstration without user input\n",
        "  sorted_name = csortString(name)\n",
        "except Exception as e:\n",
        "  log_exception(LOG_FILE, type(e), str(e))\n",
        "\n",
        "# Radix Sort\n",
        "def count_sort(arr,exp):\n",
        "  n=len(arr)\n",
        "  output=[0]*n\n",
        "  count=[0]*10\n",
        "  for i in range(n):\n",
        "    index=(arr[i]//exp)%10\n",
        "    count[index]+=1\n",
        "  for i in range(1,10):\n",
        "    count[i]+=count[i-1]\n",
        "  i=n-1\n",
        "  while i>=0: # Corrected loop condition\n",
        "    index=(arr[i]//exp)%10\n",
        "    output[count[index]-1]=arr[i]\n",
        "    count[index]-=1\n",
        "    i-=1\n",
        "  for i in range(n):\n",
        "    arr[i]=output[i]\n",
        "def radix_sort(arr):\n",
        "  if not arr: # Added check for empty list\n",
        "      return\n",
        "  max_num=max(arr)\n",
        "  exp=1\n",
        "  while max_num//exp>0:\n",
        "    count_sort(arr,exp)\n",
        "    exp*=10\n",
        "try:\n",
        "  arr=[170,45,75,90,802,24,3,66]\n",
        "  radix_sort(arr)\n",
        "except Exception as e:\n",
        "  log_exception(LOG_FILE, type(e), str(e))\n",
        "\n",
        "# Pancake Sort\n",
        "def flip(arr,k):\n",
        "  return arr[:k][::-1]+arr[k:] # Corrected slicing\n",
        "def pancake(arr):\n",
        "  n=len(arr)\n",
        "  for size in range(n,1,-1):\n",
        "    max_index=arr.index(max(arr[:size]))\n",
        "    if max_index!=size-1:\n",
        "      if max_index!=0:\n",
        "        arr=flip(arr,max_index+1)\n",
        "      arr=flip(arr,size) # Corrected flip size\n",
        "  return arr\n",
        "try:\n",
        "  nums=[3, 2, 4, 1] # Hardcoded for demonstration without user input\n",
        "  sorted_nums=pancake(nums)\n",
        "except Exception as e:\n",
        "  log_exception(LOG_FILE, type(e), str(e))\n",
        "\n",
        "# File handling\n",
        "try:\n",
        "  # file =open(\"exam.txt\",\"r\") # File may not exist\n",
        "  # data=file.read()\n",
        "  # file.close()\n",
        "\n",
        "  file=open(\"lulu.txt\",\"a\") # Use the renamed file\n",
        "  file.write(\"my lil soda pop \")\n",
        "  file.close()\n",
        "\n",
        "  with open(\"sample_binary.bin\",\"wb\") as file:\n",
        "    data=b'\\x48\\x65\\x6C\\x6C\\x6F'\n",
        "    file.write(data)\n",
        "except Exception as e:\n",
        "  log_exception(LOG_FILE, type(e), str(e))\n",
        "\n",
        "# File operations (fileno, flush, etc.)\n",
        "try:\n",
        "  with open(\"temp_file.txt\", \"w\") as f:\n",
        "    f.write(\"line1\\nline2\\nline3\\n\")\n",
        "    f.flush()\n",
        "    # f.truncate(5) # Example of truncate\n",
        "  with open(\"temp_file.txt\", \"r\") as f:\n",
        "    line = f.readline()\n",
        "    lines = f.readlines()\n",
        "    # f.fileno() # Example of fileno\n",
        "  os.remove(\"temp_file.txt\")\n",
        "except Exception as e:\n",
        "  log_exception(LOG_FILE, type(e), str(e))\n",
        "\n",
        "\n",
        "# Program to count character occurrences in a file\n",
        "try:\n",
        "  filename= \"lulu.txt\" # Hardcoded for demonstration without user input\n",
        "  with open(filename)as file :\n",
        "    text=file.read()\n",
        "    letter=\"l\" # Hardcoded for demonstration without user input\n",
        "    c=0\n",
        "    for char in text:\n",
        "      if char==letter:\n",
        "        c+=1\n",
        "except FileNotFoundError:\n",
        "  log_exception(LOG_FILE, FileNotFoundError, f\"File '{filename}' not found.\")\n",
        "except Exception as e:\n",
        "  log_exception(LOG_FILE, type(e), str(e))\n",
        "\n",
        "# File rename and remove\n",
        "try:\n",
        "  # Check if the file exists before renaming\n",
        "  if os.path.exists(\"text.txt\"):\n",
        "    os.rename(\"text.txt\",\"lulu_old.txt\") # Rename with a different name to avoid conflict\n",
        "  file=open(\"text_new.txt\",\"w\") # Write to a new file\n",
        "  file.write(\"pichi lesindhaaa vatsalya\")\n",
        "  file.close()\n",
        "  os.remove(\"text_new.txt\") # Remove the new file\n",
        "except FileNotFoundError:\n",
        "    log_exception(LOG_FILE, FileNotFoundError, \"File 'text.txt' or 'text_new.txt' not found during rename/remove.\")\n",
        "except Exception as e:\n",
        "  log_exception(LOG_FILE, type(e), str(e))\n",
        "\n",
        "# Exception Handling examples\n",
        "\n",
        "# ZeroDivisionError\n",
        "try:\n",
        "  num1 = 10 # Hardcoded for demonstration without user input\n",
        "  num2 = 0 # Hardcoded for demonstration without user input\n",
        "  result = num1 / num2\n",
        "except ZeroDivisionError:\n",
        "  log_exception(LOG_FILE, ZeroDivisionError, \"Cannot divide by zero.\")\n",
        "except Exception as e:\n",
        "  log_exception(LOG_FILE, type(e), str(e))\n",
        "\n",
        "# FileNotFoundError and ValueError\n",
        "try:\n",
        "  filename = \"non_existent_file.txt\" # Hardcoded for demonstration without user input\n",
        "  file = open(filename,\"r\")\n",
        "  number = int(file.readline())\n",
        "  file.close()\n",
        "except FileNotFoundError:\n",
        "  log_exception(LOG_FILE, FileNotFoundError, f\"File '{filename}' not found.\")\n",
        "except ValueError:\n",
        "  log_exception(LOG_FILE, ValueError, \"Invalid input, file does not contain an integer.\")\n",
        "except Exception as e:\n",
        "  log_exception(LOG_FILE, type(e), str(e))\n",
        "\n",
        "# KeyboardInterrupt, ValueError, TypeError\n",
        "try:\n",
        "  num = int(\"abc\") # Intentionally cause a ValueError\n",
        "except (KeyboardInterrupt, ValueError, TypeError):\n",
        "  log_exception(LOG_FILE, ValueError, \"Please check before executing (ValueError occurred).\") # Log the specific exception\n",
        "\n",
        "# Raising a ValueError\n",
        "try:\n",
        "  num = -5 # Hardcoded for demonstration without user input\n",
        "  if num < 0:\n",
        "    raise ValueError(\"negative number not allowed\")\n",
        "except ValueError as e:\n",
        "  log_exception(LOG_FILE, ValueError, str(e))\n",
        "else:\n",
        "  try:\n",
        "    math.sqrt(num)\n",
        "  except Exception as e:\n",
        "    log_exception(LOG_FILE, type(e), str(e))\n",
        "\n",
        "# Intentionally raising an exception\n",
        "try:\n",
        "  num = 10 # Hardcoded for demonstration without user input\n",
        "  raise ValueError(\"EXCEPTION RAISED INTENTIONALLY\")\n",
        "except ValueError as e:\n",
        "  log_exception(LOG_FILE, ValueError, str(e))\n",
        "except Exception as e:\n",
        "  log_exception(LOG_FILE, type(e), str(e))\n"
      ],
      "metadata": {
        "id": "Ja3bU9CASGOP"
      },
      "execution_count": null,
      "outputs": []
    },
    {
      "cell_type": "code",
      "source": [
        "import datetime\n",
        "try:\n",
        "  x=int(input(\"Enter numerator\"))\n",
        "  y=int(input(\"Enter denominator\"))\n",
        "  result=x/y\n",
        "  print(result)\n",
        "except Exception as e:\n",
        "  ct=datetime.datetime.now().strftime(\"%Y-%m-%d %H:%M:%S\")\n",
        "  txt=f\"[{ct}] Error:{str(e)} \\n\"\n",
        "  with open(\"data.txt\",'a') as file:\n",
        "    file.write(txt)"
      ],
      "metadata": {
        "colab": {
          "base_uri": "https://localhost:8080/"
        },
        "id": "UqtlZn9UVt1m",
        "outputId": "670b0a7b-85fe-48b8-a605-6e04ae8bb158"
      },
      "execution_count": null,
      "outputs": [
        {
          "output_type": "stream",
          "name": "stdout",
          "text": [
            "Enter numerator7\n",
            "Enter denominator7\n",
            "1.0\n"
          ]
        }
      ]
    },
    {
      "cell_type": "code",
      "source": [],
      "metadata": {
        "id": "idPBZGgPaD6m"
      },
      "execution_count": null,
      "outputs": []
    }
  ]
}